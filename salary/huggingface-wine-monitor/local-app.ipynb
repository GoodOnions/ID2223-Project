{
 "cells": [
  {
   "cell_type": "code",
   "execution_count": 9,
   "outputs": [],
   "source": [
    "import gradio as gr\n",
    "import hopsworks\n",
    "import joblib\n",
    "import pandas as pd"
   ],
   "metadata": {
    "collapsed": false,
    "ExecuteTime": {
     "end_time": "2023-11-19T13:16:33.180935Z",
     "start_time": "2023-11-19T13:16:33.176454Z"
    }
   },
   "id": "ec41261b2961a051"
  },
  {
   "cell_type": "code",
   "execution_count": 10,
   "outputs": [],
   "source": [
    "# Load .env variables in environment\n",
    "\n",
    "%reload_ext dotenv\n",
    "%dotenv"
   ],
   "metadata": {
    "collapsed": false,
    "ExecuteTime": {
     "end_time": "2023-11-19T13:16:33.187136Z",
     "start_time": "2023-11-19T13:16:33.180604Z"
    }
   },
   "id": "e36c680b3cb49c8c"
  },
  {
   "cell_type": "code",
   "execution_count": 34,
   "id": "initial_id",
   "metadata": {
    "collapsed": true,
    "ExecuteTime": {
     "end_time": "2023-11-19T13:20:56.218567Z",
     "start_time": "2023-11-19T13:20:51.976440Z"
    }
   },
   "outputs": [
    {
     "name": "stdout",
     "output_type": "stream",
     "text": [
      "Connection closed.\n",
      "Connected. Call `.close()` to terminate connection gracefully.\n",
      "\n",
      "Logged in to project, explore it here https://c.app.hopsworks.ai:443/p/209044\n",
      "Connected. Call `.close()` to terminate connection gracefully.\n"
     ]
    },
    {
     "name": "stderr",
     "output_type": "stream",
     "text": [
      "DeprecationWarning: The `ipykernel.comm.Comm` class has been deprecated. Please use the `comm` module instead.For creating comms, use the function `from comm import create_comm`.\n"
     ]
    },
    {
     "data": {
      "text/plain": "Downloading: 0.000%|          | 0/21831 elapsed<00:00 remaining<?",
      "application/vnd.jupyter.widget-view+json": {
       "version_major": 2,
       "version_minor": 0,
       "model_id": "20e17e75bac94d5982c6a7776452191a"
      }
     },
     "metadata": {},
     "output_type": "display_data"
    },
    {
     "data": {
      "text/plain": "Downloading: 0.000%|          | 0/14098 elapsed<00:00 remaining<?",
      "application/vnd.jupyter.widget-view+json": {
       "version_major": 2,
       "version_minor": 0,
       "model_id": "1efe1cba1c494beba2529b8c812a9797"
      }
     },
     "metadata": {},
     "output_type": "display_data"
    },
    {
     "name": "stdout",
     "output_type": "stream",
     "text": [
      "Finished: Reading data from Hopsworks, using ArrowFlight (0.63s) \n"
     ]
    }
   ],
   "source": [
    "labels = ['Low', 'Medium', 'High']\n",
    "\n",
    "project = hopsworks.login()\n",
    "fs = project.get_feature_store()\n",
    "\n",
    "dataset_api = project.get_dataset_api()\n",
    "dataset_api.download(\"Resources/images/wine_df_recent.png\", overwrite=True)\n",
    "dataset_api.download(\"Resources/images/wine_confusion_matrix.png\", overwrite=True)\n",
    "\n",
    "monitor_fg = fs.get_or_create_feature_group(name=\"wine_predictions\", version=1, primary_key=[\"datetime\"],\n",
    "                                            description=\"Wine quality Prediction/Outcome Monitoring\")\n",
    "\n",
    "history_df = monitor_fg.read()\n",
    "last_prediction = history_df.tail(1)\n",
    "last_prediction = last_prediction.to_dict(orient='records')[0]"
   ]
  },
  {
   "cell_type": "code",
   "execution_count": 35,
   "outputs": [
    {
     "data": {
      "text/plain": "{'prediction': 0, 'label': 1.0, 'datetime': '11/19/2023, 14:11:45'}"
     },
     "execution_count": 35,
     "metadata": {},
     "output_type": "execute_result"
    }
   ],
   "source": [
    "last_prediction"
   ],
   "metadata": {
    "collapsed": false,
    "ExecuteTime": {
     "end_time": "2023-11-19T13:20:58.403108Z",
     "start_time": "2023-11-19T13:20:58.395855Z"
    }
   },
   "id": "ee00ff90d700a792"
  },
  {
   "cell_type": "code",
   "execution_count": 37,
   "outputs": [
    {
     "name": "stdout",
     "output_type": "stream",
     "text": [
      "Running on local URL:  http://127.0.0.1:7860\n",
      "\n",
      "To create a public link, set `share=True` in `launch()`.\n"
     ]
    },
    {
     "data": {
      "text/plain": "<IPython.core.display.HTML object>",
      "text/html": "<div><iframe src=\"http://127.0.0.1:7860/\" width=\"100%\" height=\"500\" allow=\"autoplay; camera; microphone; clipboard-read; clipboard-write;\" frameborder=\"0\" allowfullscreen></iframe></div>"
     },
     "metadata": {},
     "output_type": "display_data"
    },
    {
     "data": {
      "text/plain": ""
     },
     "execution_count": 37,
     "metadata": {},
     "output_type": "execute_result"
    }
   ],
   "source": [
    "with gr.Blocks() as demo:\n",
    "    with gr.Row():\n",
    "        with gr.Column():\n",
    "            gr.Label(\"Today's Predicted\")\n",
    "            gr.Label(f\"{labels[last_prediction['prediction']] + ' quality' if last_prediction is not None else 'No predictions yet'}\")\n",
    "        with gr.Column():\n",
    "            gr.Label(\"Today's Actual quality\")\n",
    "            gr.Label(f\"{labels[int(last_prediction['label'])] + ' quality' if last_prediction is not None else 'No predictions yet'}\")\n",
    "    with gr.Row():\n",
    "        with gr.Column():\n",
    "            gr.Label(\"Recent Prediction History\")\n",
    "            gr.Image(\"wine_df_recent.png\", elem_id=\"recent-predictions\")\n",
    "        with gr.Column():\n",
    "            gr.Label(\"Confusion Maxtrix with Historical Prediction Performance\")\n",
    "            gr.Image(\"wine_confusion_matrix.png\", elem_id=\"confusion-matrix\")\n",
    "\n",
    "demo.launch()"
   ],
   "metadata": {
    "collapsed": false,
    "ExecuteTime": {
     "end_time": "2023-11-19T13:21:23.658710Z",
     "start_time": "2023-11-19T13:21:21.393757Z"
    }
   },
   "id": "420d41c59f6665be"
  },
  {
   "cell_type": "code",
   "execution_count": null,
   "outputs": [],
   "source": [],
   "metadata": {
    "collapsed": false
   },
   "id": "3c15f903e05ac65b"
  }
 ],
 "metadata": {
  "kernelspec": {
   "display_name": "Python 3",
   "language": "python",
   "name": "python3"
  },
  "language_info": {
   "codemirror_mode": {
    "name": "ipython",
    "version": 2
   },
   "file_extension": ".py",
   "mimetype": "text/x-python",
   "name": "python",
   "nbconvert_exporter": "python",
   "pygments_lexer": "ipython2",
   "version": "2.7.6"
  }
 },
 "nbformat": 4,
 "nbformat_minor": 5
}
