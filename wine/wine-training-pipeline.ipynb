{
 "cells": [
  {
   "cell_type": "code",
   "execution_count": 1,
   "outputs": [],
   "source": [
    "# Load .env variables in environment\n",
    "\n",
    "%reload_ext dotenv\n",
    "%dotenv"
   ],
   "metadata": {
    "collapsed": false,
    "ExecuteTime": {
     "end_time": "2023-11-18T15:09:04.182095Z",
     "start_time": "2023-11-18T15:09:04.176579Z"
    }
   },
   "id": "142ae372691d57c5"
  },
  {
   "cell_type": "code",
   "execution_count": 2,
   "id": "initial_id",
   "metadata": {
    "collapsed": true,
    "ExecuteTime": {
     "end_time": "2023-11-18T15:09:05.769867Z",
     "start_time": "2023-11-18T15:09:04.809790Z"
    }
   },
   "outputs": [],
   "source": [
    "import hopsworks\n",
    "import pandas as pd\n",
    "from sklearn.pipeline import Pipeline\n",
    "from sklearn.svm import SVC\n",
    "from sklearn.neighbors import KNeighborsClassifier\n",
    "from sklearn.tree import DecisionTreeClassifier\n",
    "from sklearn.model_selection import GridSearchCV\n",
    "from sklearn.preprocessing import StandardScaler\n",
    "from sklearn.metrics import accuracy_score\n",
    "from sklearn.metrics import confusion_matrix\n",
    "from sklearn.metrics import classification_report\n",
    "import seaborn as sns\n",
    "from matplotlib import pyplot\n",
    "from hsml.schema import Schema\n",
    "from hsml.model_schema import ModelSchema\n",
    "import joblib\n",
    "import os"
   ]
  },
  {
   "cell_type": "code",
   "execution_count": 4,
   "outputs": [
    {
     "name": "stdout",
     "output_type": "stream",
     "text": [
      "Connection closed.\n",
      "Connected. Call `.close()` to terminate connection gracefully.\n",
      "\n",
      "Logged in to project, explore it here https://c.app.hopsworks.ai:443/p/209044\n",
      "Connected. Call `.close()` to terminate connection gracefully.\n"
     ]
    }
   ],
   "source": [
    "# You have to set the environment variable 'HOPSWORKS_API_KEY' for login to succeed\n",
    "project = hopsworks.login()\n",
    "fs = project.get_feature_store()"
   ],
   "metadata": {
    "collapsed": false,
    "ExecuteTime": {
     "end_time": "2023-11-18T15:10:11.777263Z",
     "start_time": "2023-11-18T15:10:10.097677Z"
    }
   },
   "id": "afe60c9d78d227fa"
  },
  {
   "cell_type": "code",
   "execution_count": 4,
   "outputs": [
    {
     "name": "stdout",
     "output_type": "stream",
     "text": [
      "Feature view created successfully, explore it at \n",
      "https://c.app.hopsworks.ai:443/p/209044/fs/208963/fv/wine/version/3\n"
     ]
    }
   ],
   "source": [
    "# The feature view is the input set of features for your model. The features can come from different feature groups.    \n",
    "# You can select features from different feature groups and join them together to create a feature view\n",
    "wine_fg = fs.get_feature_group(name=\"wine\", version=3)\n",
    "query = wine_fg.select_all()\n",
    "feature_view = fs.get_or_create_feature_view(name=\"wine\",\n",
    "                                             version=3,\n",
    "                                             description=\"Read from Wine dataset\",\n",
    "                                             labels=[\"quality\"],\n",
    "                                             query=query)"
   ],
   "metadata": {
    "collapsed": false,
    "ExecuteTime": {
     "end_time": "2023-11-16T16:26:34.717646Z",
     "start_time": "2023-11-16T16:26:32.615858Z"
    }
   },
   "id": "9fbfeed142acb1d5"
  },
  {
   "cell_type": "code",
   "execution_count": 5,
   "outputs": [
    {
     "name": "stdout",
     "output_type": "stream",
     "text": [
      "Finished: Reading data from Hopsworks, using ArrowFlight (1.36s) \n"
     ]
    },
    {
     "name": "stderr",
     "output_type": "stream",
     "text": [
      "VersionWarning: Incremented version to `1`.\n"
     ]
    }
   ],
   "source": [
    "# You can read training data, randomly split into train/test sets of features (X) and labels (y)        \n",
    "X_train, X_test, y_train, y_test = feature_view.train_test_split(0.2)"
   ],
   "metadata": {
    "collapsed": false,
    "ExecuteTime": {
     "end_time": "2023-11-16T16:26:44.072562Z",
     "start_time": "2023-11-16T16:26:38.601118Z"
    }
   },
   "id": "7b0ef1738e69d95a"
  },
  {
   "cell_type": "code",
   "execution_count": 6,
   "outputs": [
    {
     "data": {
      "text/plain": "      fixed_acidity  volatile_acidity  citric_acid  residual_sugar  chlorides  \\\n0               5.9              0.20         0.23             1.5      0.037   \n1               5.1              0.11         0.32             1.6      0.028   \n2               8.2              0.18         0.49             1.1      0.033   \n3              10.5              0.59         0.49             2.1      0.070   \n5               7.6              0.48         0.28            10.4      0.049   \n...             ...               ...          ...             ...        ...   \n5289            9.3              0.48         0.29             2.1      0.127   \n5290            5.9              0.20         0.40             1.3      0.047   \n5291            6.8              0.45         0.36             5.0      0.033   \n5292            6.5              0.30         0.32             2.0      0.044   \n5293            9.0              0.62         0.04             1.9      0.146   \n\n      free_sulfur_dioxide  total_sulfur_dioxide  density    ph  sulphates  \\\n0                    38.0                  93.0  0.99021  3.36       0.49   \n1                    12.0                  90.0  0.99008  3.57       0.52   \n2                    28.0                  81.0  0.99230  3.00       0.68   \n3                    14.0                  47.0  0.99910  3.30       0.56   \n5                    57.0                 205.0  0.99748  3.24       0.45   \n...                   ...                   ...      ...   ...        ...   \n5289                  6.0                  16.0  0.99680  3.22       0.72   \n5290                 23.0                  92.0  0.99232  3.20       0.45   \n5291                 28.0                 156.0  0.99100  3.11       0.40   \n5292                 34.0                  90.0  0.99185  3.37       0.68   \n5293                 27.0                  90.0  0.99840  3.16       0.70   \n\n      alcohol  is_white  \n0        12.0         1  \n1        12.2         1  \n2        10.4         1  \n3         9.6         0  \n5         9.3         1  \n...       ...       ...  \n5289     11.2         0  \n5290     10.0         1  \n5291     12.4         1  \n5292     11.0         1  \n5293      9.4         0  \n\n[4236 rows x 12 columns]",
      "text/html": "<div>\n<style scoped>\n    .dataframe tbody tr th:only-of-type {\n        vertical-align: middle;\n    }\n\n    .dataframe tbody tr th {\n        vertical-align: top;\n    }\n\n    .dataframe thead th {\n        text-align: right;\n    }\n</style>\n<table border=\"1\" class=\"dataframe\">\n  <thead>\n    <tr style=\"text-align: right;\">\n      <th></th>\n      <th>fixed_acidity</th>\n      <th>volatile_acidity</th>\n      <th>citric_acid</th>\n      <th>residual_sugar</th>\n      <th>chlorides</th>\n      <th>free_sulfur_dioxide</th>\n      <th>total_sulfur_dioxide</th>\n      <th>density</th>\n      <th>ph</th>\n      <th>sulphates</th>\n      <th>alcohol</th>\n      <th>is_white</th>\n    </tr>\n  </thead>\n  <tbody>\n    <tr>\n      <th>0</th>\n      <td>5.9</td>\n      <td>0.20</td>\n      <td>0.23</td>\n      <td>1.5</td>\n      <td>0.037</td>\n      <td>38.0</td>\n      <td>93.0</td>\n      <td>0.99021</td>\n      <td>3.36</td>\n      <td>0.49</td>\n      <td>12.0</td>\n      <td>1</td>\n    </tr>\n    <tr>\n      <th>1</th>\n      <td>5.1</td>\n      <td>0.11</td>\n      <td>0.32</td>\n      <td>1.6</td>\n      <td>0.028</td>\n      <td>12.0</td>\n      <td>90.0</td>\n      <td>0.99008</td>\n      <td>3.57</td>\n      <td>0.52</td>\n      <td>12.2</td>\n      <td>1</td>\n    </tr>\n    <tr>\n      <th>2</th>\n      <td>8.2</td>\n      <td>0.18</td>\n      <td>0.49</td>\n      <td>1.1</td>\n      <td>0.033</td>\n      <td>28.0</td>\n      <td>81.0</td>\n      <td>0.99230</td>\n      <td>3.00</td>\n      <td>0.68</td>\n      <td>10.4</td>\n      <td>1</td>\n    </tr>\n    <tr>\n      <th>3</th>\n      <td>10.5</td>\n      <td>0.59</td>\n      <td>0.49</td>\n      <td>2.1</td>\n      <td>0.070</td>\n      <td>14.0</td>\n      <td>47.0</td>\n      <td>0.99910</td>\n      <td>3.30</td>\n      <td>0.56</td>\n      <td>9.6</td>\n      <td>0</td>\n    </tr>\n    <tr>\n      <th>5</th>\n      <td>7.6</td>\n      <td>0.48</td>\n      <td>0.28</td>\n      <td>10.4</td>\n      <td>0.049</td>\n      <td>57.0</td>\n      <td>205.0</td>\n      <td>0.99748</td>\n      <td>3.24</td>\n      <td>0.45</td>\n      <td>9.3</td>\n      <td>1</td>\n    </tr>\n    <tr>\n      <th>...</th>\n      <td>...</td>\n      <td>...</td>\n      <td>...</td>\n      <td>...</td>\n      <td>...</td>\n      <td>...</td>\n      <td>...</td>\n      <td>...</td>\n      <td>...</td>\n      <td>...</td>\n      <td>...</td>\n      <td>...</td>\n    </tr>\n    <tr>\n      <th>5289</th>\n      <td>9.3</td>\n      <td>0.48</td>\n      <td>0.29</td>\n      <td>2.1</td>\n      <td>0.127</td>\n      <td>6.0</td>\n      <td>16.0</td>\n      <td>0.99680</td>\n      <td>3.22</td>\n      <td>0.72</td>\n      <td>11.2</td>\n      <td>0</td>\n    </tr>\n    <tr>\n      <th>5290</th>\n      <td>5.9</td>\n      <td>0.20</td>\n      <td>0.40</td>\n      <td>1.3</td>\n      <td>0.047</td>\n      <td>23.0</td>\n      <td>92.0</td>\n      <td>0.99232</td>\n      <td>3.20</td>\n      <td>0.45</td>\n      <td>10.0</td>\n      <td>1</td>\n    </tr>\n    <tr>\n      <th>5291</th>\n      <td>6.8</td>\n      <td>0.45</td>\n      <td>0.36</td>\n      <td>5.0</td>\n      <td>0.033</td>\n      <td>28.0</td>\n      <td>156.0</td>\n      <td>0.99100</td>\n      <td>3.11</td>\n      <td>0.40</td>\n      <td>12.4</td>\n      <td>1</td>\n    </tr>\n    <tr>\n      <th>5292</th>\n      <td>6.5</td>\n      <td>0.30</td>\n      <td>0.32</td>\n      <td>2.0</td>\n      <td>0.044</td>\n      <td>34.0</td>\n      <td>90.0</td>\n      <td>0.99185</td>\n      <td>3.37</td>\n      <td>0.68</td>\n      <td>11.0</td>\n      <td>1</td>\n    </tr>\n    <tr>\n      <th>5293</th>\n      <td>9.0</td>\n      <td>0.62</td>\n      <td>0.04</td>\n      <td>1.9</td>\n      <td>0.146</td>\n      <td>27.0</td>\n      <td>90.0</td>\n      <td>0.99840</td>\n      <td>3.16</td>\n      <td>0.70</td>\n      <td>9.4</td>\n      <td>0</td>\n    </tr>\n  </tbody>\n</table>\n<p>4236 rows × 12 columns</p>\n</div>"
     },
     "execution_count": 6,
     "metadata": {},
     "output_type": "execute_result"
    }
   ],
   "source": [
    "X_train"
   ],
   "metadata": {
    "collapsed": false,
    "ExecuteTime": {
     "end_time": "2023-11-16T16:26:44.090682Z",
     "start_time": "2023-11-16T16:26:44.077227Z"
    }
   },
   "id": "a22375b4dad504eb"
  },
  {
   "cell_type": "code",
   "execution_count": 7,
   "outputs": [
    {
     "data": {
      "text/plain": "      quality\n0           1\n1           1\n2           2\n3           0\n5           0\n...       ...\n5289        0\n5290        1\n5291        2\n5292        2\n5293        0\n\n[4236 rows x 1 columns]",
      "text/html": "<div>\n<style scoped>\n    .dataframe tbody tr th:only-of-type {\n        vertical-align: middle;\n    }\n\n    .dataframe tbody tr th {\n        vertical-align: top;\n    }\n\n    .dataframe thead th {\n        text-align: right;\n    }\n</style>\n<table border=\"1\" class=\"dataframe\">\n  <thead>\n    <tr style=\"text-align: right;\">\n      <th></th>\n      <th>quality</th>\n    </tr>\n  </thead>\n  <tbody>\n    <tr>\n      <th>0</th>\n      <td>1</td>\n    </tr>\n    <tr>\n      <th>1</th>\n      <td>1</td>\n    </tr>\n    <tr>\n      <th>2</th>\n      <td>2</td>\n    </tr>\n    <tr>\n      <th>3</th>\n      <td>0</td>\n    </tr>\n    <tr>\n      <th>5</th>\n      <td>0</td>\n    </tr>\n    <tr>\n      <th>...</th>\n      <td>...</td>\n    </tr>\n    <tr>\n      <th>5289</th>\n      <td>0</td>\n    </tr>\n    <tr>\n      <th>5290</th>\n      <td>1</td>\n    </tr>\n    <tr>\n      <th>5291</th>\n      <td>2</td>\n    </tr>\n    <tr>\n      <th>5292</th>\n      <td>2</td>\n    </tr>\n    <tr>\n      <th>5293</th>\n      <td>0</td>\n    </tr>\n  </tbody>\n</table>\n<p>4236 rows × 1 columns</p>\n</div>"
     },
     "execution_count": 7,
     "metadata": {},
     "output_type": "execute_result"
    }
   ],
   "source": [
    "y_train"
   ],
   "metadata": {
    "collapsed": false
   },
   "id": "8f56013a75865de9"
  },
  {
   "cell_type": "markdown",
   "source": [
    "## Model training\n",
    "\n",
    "### Decision Tree "
   ],
   "metadata": {
    "collapsed": false
   },
   "id": "b481cde3f23de36f"
  },
  {
   "cell_type": "code",
   "execution_count": 22,
   "outputs": [
    {
     "name": "stdout",
     "output_type": "stream",
     "text": [
      "Fitting 5 folds for each of 48 candidates, totalling 240 fits\n"
     ]
    },
    {
     "data": {
      "text/plain": "Pipeline(steps=[('scl', StandardScaler()),\n                ('gs',\n                 GridSearchCV(cv=5,\n                              estimator=Pipeline(steps=[('clf',\n                                                         DecisionTreeClassifier(random_state=101))]),\n                              n_jobs=-1,\n                              param_grid=[{'clf__class_weight': ['balanced',\n                                                                 None],\n                                           'clf__criterion': ['gini',\n                                                              'entropy'],\n                                           'clf__max_depth': [8, 9, 10, 11],\n                                           'clf__min_samples_leaf': [2, 3, 5],\n                                           'clf__splitter': ['best']}],\n                              scoring='accuracy', verbose=1))])",
      "text/html": "<style>#sk-container-id-3 {color: black;background-color: white;}#sk-container-id-3 pre{padding: 0;}#sk-container-id-3 div.sk-toggleable {background-color: white;}#sk-container-id-3 label.sk-toggleable__label {cursor: pointer;display: block;width: 100%;margin-bottom: 0;padding: 0.3em;box-sizing: border-box;text-align: center;}#sk-container-id-3 label.sk-toggleable__label-arrow:before {content: \"▸\";float: left;margin-right: 0.25em;color: #696969;}#sk-container-id-3 label.sk-toggleable__label-arrow:hover:before {color: black;}#sk-container-id-3 div.sk-estimator:hover label.sk-toggleable__label-arrow:before {color: black;}#sk-container-id-3 div.sk-toggleable__content {max-height: 0;max-width: 0;overflow: hidden;text-align: left;background-color: #f0f8ff;}#sk-container-id-3 div.sk-toggleable__content pre {margin: 0.2em;color: black;border-radius: 0.25em;background-color: #f0f8ff;}#sk-container-id-3 input.sk-toggleable__control:checked~div.sk-toggleable__content {max-height: 200px;max-width: 100%;overflow: auto;}#sk-container-id-3 input.sk-toggleable__control:checked~label.sk-toggleable__label-arrow:before {content: \"▾\";}#sk-container-id-3 div.sk-estimator input.sk-toggleable__control:checked~label.sk-toggleable__label {background-color: #d4ebff;}#sk-container-id-3 div.sk-label input.sk-toggleable__control:checked~label.sk-toggleable__label {background-color: #d4ebff;}#sk-container-id-3 input.sk-hidden--visually {border: 0;clip: rect(1px 1px 1px 1px);clip: rect(1px, 1px, 1px, 1px);height: 1px;margin: -1px;overflow: hidden;padding: 0;position: absolute;width: 1px;}#sk-container-id-3 div.sk-estimator {font-family: monospace;background-color: #f0f8ff;border: 1px dotted black;border-radius: 0.25em;box-sizing: border-box;margin-bottom: 0.5em;}#sk-container-id-3 div.sk-estimator:hover {background-color: #d4ebff;}#sk-container-id-3 div.sk-parallel-item::after {content: \"\";width: 100%;border-bottom: 1px solid gray;flex-grow: 1;}#sk-container-id-3 div.sk-label:hover label.sk-toggleable__label {background-color: #d4ebff;}#sk-container-id-3 div.sk-serial::before {content: \"\";position: absolute;border-left: 1px solid gray;box-sizing: border-box;top: 0;bottom: 0;left: 50%;z-index: 0;}#sk-container-id-3 div.sk-serial {display: flex;flex-direction: column;align-items: center;background-color: white;padding-right: 0.2em;padding-left: 0.2em;position: relative;}#sk-container-id-3 div.sk-item {position: relative;z-index: 1;}#sk-container-id-3 div.sk-parallel {display: flex;align-items: stretch;justify-content: center;background-color: white;position: relative;}#sk-container-id-3 div.sk-item::before, #sk-container-id-3 div.sk-parallel-item::before {content: \"\";position: absolute;border-left: 1px solid gray;box-sizing: border-box;top: 0;bottom: 0;left: 50%;z-index: -1;}#sk-container-id-3 div.sk-parallel-item {display: flex;flex-direction: column;z-index: 1;position: relative;background-color: white;}#sk-container-id-3 div.sk-parallel-item:first-child::after {align-self: flex-end;width: 50%;}#sk-container-id-3 div.sk-parallel-item:last-child::after {align-self: flex-start;width: 50%;}#sk-container-id-3 div.sk-parallel-item:only-child::after {width: 0;}#sk-container-id-3 div.sk-dashed-wrapped {border: 1px dashed gray;margin: 0 0.4em 0.5em 0.4em;box-sizing: border-box;padding-bottom: 0.4em;background-color: white;}#sk-container-id-3 div.sk-label label {font-family: monospace;font-weight: bold;display: inline-block;line-height: 1.2em;}#sk-container-id-3 div.sk-label-container {text-align: center;}#sk-container-id-3 div.sk-container {/* jupyter's `normalize.less` sets `[hidden] { display: none; }` but bootstrap.min.css set `[hidden] { display: none !important; }` so we also need the `!important` here to be able to override the default hidden behavior on the sphinx rendered scikit-learn.org. See: https://github.com/scikit-learn/scikit-learn/issues/21755 */display: inline-block !important;position: relative;}#sk-container-id-3 div.sk-text-repr-fallback {display: none;}</style><div id=\"sk-container-id-3\" class=\"sk-top-container\"><div class=\"sk-text-repr-fallback\"><pre>Pipeline(steps=[(&#x27;scl&#x27;, StandardScaler()),\n                (&#x27;gs&#x27;,\n                 GridSearchCV(cv=5,\n                              estimator=Pipeline(steps=[(&#x27;clf&#x27;,\n                                                         DecisionTreeClassifier(random_state=101))]),\n                              n_jobs=-1,\n                              param_grid=[{&#x27;clf__class_weight&#x27;: [&#x27;balanced&#x27;,\n                                                                 None],\n                                           &#x27;clf__criterion&#x27;: [&#x27;gini&#x27;,\n                                                              &#x27;entropy&#x27;],\n                                           &#x27;clf__max_depth&#x27;: [8, 9, 10, 11],\n                                           &#x27;clf__min_samples_leaf&#x27;: [2, 3, 5],\n                                           &#x27;clf__splitter&#x27;: [&#x27;best&#x27;]}],\n                              scoring=&#x27;accuracy&#x27;, verbose=1))])</pre><b>In a Jupyter environment, please rerun this cell to show the HTML representation or trust the notebook. <br />On GitHub, the HTML representation is unable to render, please try loading this page with nbviewer.org.</b></div><div class=\"sk-container\" hidden><div class=\"sk-item sk-dashed-wrapped\"><div class=\"sk-label-container\"><div class=\"sk-label sk-toggleable\"><input class=\"sk-toggleable__control sk-hidden--visually\" id=\"sk-estimator-id-10\" type=\"checkbox\" ><label for=\"sk-estimator-id-10\" class=\"sk-toggleable__label sk-toggleable__label-arrow\">Pipeline</label><div class=\"sk-toggleable__content\"><pre>Pipeline(steps=[(&#x27;scl&#x27;, StandardScaler()),\n                (&#x27;gs&#x27;,\n                 GridSearchCV(cv=5,\n                              estimator=Pipeline(steps=[(&#x27;clf&#x27;,\n                                                         DecisionTreeClassifier(random_state=101))]),\n                              n_jobs=-1,\n                              param_grid=[{&#x27;clf__class_weight&#x27;: [&#x27;balanced&#x27;,\n                                                                 None],\n                                           &#x27;clf__criterion&#x27;: [&#x27;gini&#x27;,\n                                                              &#x27;entropy&#x27;],\n                                           &#x27;clf__max_depth&#x27;: [8, 9, 10, 11],\n                                           &#x27;clf__min_samples_leaf&#x27;: [2, 3, 5],\n                                           &#x27;clf__splitter&#x27;: [&#x27;best&#x27;]}],\n                              scoring=&#x27;accuracy&#x27;, verbose=1))])</pre></div></div></div><div class=\"sk-serial\"><div class=\"sk-item\"><div class=\"sk-estimator sk-toggleable\"><input class=\"sk-toggleable__control sk-hidden--visually\" id=\"sk-estimator-id-11\" type=\"checkbox\" ><label for=\"sk-estimator-id-11\" class=\"sk-toggleable__label sk-toggleable__label-arrow\">StandardScaler</label><div class=\"sk-toggleable__content\"><pre>StandardScaler()</pre></div></div></div><div class=\"sk-item sk-dashed-wrapped\"><div class=\"sk-label-container\"><div class=\"sk-label sk-toggleable\"><input class=\"sk-toggleable__control sk-hidden--visually\" id=\"sk-estimator-id-12\" type=\"checkbox\" ><label for=\"sk-estimator-id-12\" class=\"sk-toggleable__label sk-toggleable__label-arrow\">gs: GridSearchCV</label><div class=\"sk-toggleable__content\"><pre>GridSearchCV(cv=5,\n             estimator=Pipeline(steps=[(&#x27;clf&#x27;,\n                                        DecisionTreeClassifier(random_state=101))]),\n             n_jobs=-1,\n             param_grid=[{&#x27;clf__class_weight&#x27;: [&#x27;balanced&#x27;, None],\n                          &#x27;clf__criterion&#x27;: [&#x27;gini&#x27;, &#x27;entropy&#x27;],\n                          &#x27;clf__max_depth&#x27;: [8, 9, 10, 11],\n                          &#x27;clf__min_samples_leaf&#x27;: [2, 3, 5],\n                          &#x27;clf__splitter&#x27;: [&#x27;best&#x27;]}],\n             scoring=&#x27;accuracy&#x27;, verbose=1)</pre></div></div></div><div class=\"sk-parallel\"><div class=\"sk-parallel-item\"><div class=\"sk-item\"><div class=\"sk-label-container\"><div class=\"sk-label sk-toggleable\"><input class=\"sk-toggleable__control sk-hidden--visually\" id=\"sk-estimator-id-13\" type=\"checkbox\" ><label for=\"sk-estimator-id-13\" class=\"sk-toggleable__label sk-toggleable__label-arrow\">estimator: Pipeline</label><div class=\"sk-toggleable__content\"><pre>Pipeline(steps=[(&#x27;clf&#x27;, DecisionTreeClassifier(random_state=101))])</pre></div></div></div><div class=\"sk-serial\"><div class=\"sk-item\"><div class=\"sk-serial\"><div class=\"sk-item\"><div class=\"sk-estimator sk-toggleable\"><input class=\"sk-toggleable__control sk-hidden--visually\" id=\"sk-estimator-id-14\" type=\"checkbox\" ><label for=\"sk-estimator-id-14\" class=\"sk-toggleable__label sk-toggleable__label-arrow\">DecisionTreeClassifier</label><div class=\"sk-toggleable__content\"><pre>DecisionTreeClassifier(random_state=101)</pre></div></div></div></div></div></div></div></div></div></div></div></div></div></div>"
     },
     "execution_count": 22,
     "metadata": {},
     "output_type": "execute_result"
    }
   ],
   "source": [
    "clf = Pipeline([\n",
    "    ('clf', DecisionTreeClassifier(random_state=101))])\n",
    "\n",
    "# a list of dictionaries to specify the parameters that we'd want to tune\n",
    "criterion = ['gini', 'entropy']\n",
    "splitter = ['best']\n",
    "max_depth = [8, 9, 10, 11]\n",
    "min_samples_leaf = [2, 3, 5]\n",
    "class_weight = ['balanced', None]\n",
    "\n",
    "param_grid = \\\n",
    "    [{'clf__class_weight': class_weight\n",
    "         , 'clf__criterion': criterion\n",
    "         , 'clf__splitter': splitter\n",
    "         , 'clf__max_depth': max_depth\n",
    "         , 'clf__min_samples_leaf': min_samples_leaf\n",
    "      }]\n",
    "\n",
    "gs = GridSearchCV(estimator=clf, param_grid=param_grid, scoring='accuracy', cv=5, verbose=1, n_jobs=-1)\n",
    "DT = Pipeline([\n",
    "    ('scl', StandardScaler()),\n",
    "    ('gs', gs)\n",
    "])\n",
    "\n",
    "DT.fit(X_train, y_train)"
   ],
   "metadata": {
    "collapsed": false,
    "ExecuteTime": {
     "end_time": "2023-11-16T16:32:17.915121Z",
     "start_time": "2023-11-16T16:32:17.437285Z"
    }
   },
   "id": "8732004b0b09bf3e"
  },
  {
   "cell_type": "code",
   "execution_count": 23,
   "outputs": [
    {
     "data": {
      "text/plain": "                    0           1           2  accuracy    macro avg  \\\nprecision    0.630372    0.494774    0.470588  0.536355     0.531911   \nrecall       0.578947    0.620087    0.289593  0.536355     0.496209   \nf1-score     0.603567    0.550388    0.358543  0.536355     0.504166   \nsupport    380.000000  458.000000  221.000000  0.536355  1059.000000   \n\n           weighted avg  \nprecision      0.538383  \nrecall         0.536355  \nf1-score       0.529434  \nsupport     1059.000000  ",
      "text/html": "<div>\n<style scoped>\n    .dataframe tbody tr th:only-of-type {\n        vertical-align: middle;\n    }\n\n    .dataframe tbody tr th {\n        vertical-align: top;\n    }\n\n    .dataframe thead th {\n        text-align: right;\n    }\n</style>\n<table border=\"1\" class=\"dataframe\">\n  <thead>\n    <tr style=\"text-align: right;\">\n      <th></th>\n      <th>0</th>\n      <th>1</th>\n      <th>2</th>\n      <th>accuracy</th>\n      <th>macro avg</th>\n      <th>weighted avg</th>\n    </tr>\n  </thead>\n  <tbody>\n    <tr>\n      <th>precision</th>\n      <td>0.630372</td>\n      <td>0.494774</td>\n      <td>0.470588</td>\n      <td>0.536355</td>\n      <td>0.531911</td>\n      <td>0.538383</td>\n    </tr>\n    <tr>\n      <th>recall</th>\n      <td>0.578947</td>\n      <td>0.620087</td>\n      <td>0.289593</td>\n      <td>0.536355</td>\n      <td>0.496209</td>\n      <td>0.536355</td>\n    </tr>\n    <tr>\n      <th>f1-score</th>\n      <td>0.603567</td>\n      <td>0.550388</td>\n      <td>0.358543</td>\n      <td>0.536355</td>\n      <td>0.504166</td>\n      <td>0.529434</td>\n    </tr>\n    <tr>\n      <th>support</th>\n      <td>380.000000</td>\n      <td>458.000000</td>\n      <td>221.000000</td>\n      <td>0.536355</td>\n      <td>1059.000000</td>\n      <td>1059.000000</td>\n    </tr>\n  </tbody>\n</table>\n</div>"
     },
     "execution_count": 23,
     "metadata": {},
     "output_type": "execute_result"
    }
   ],
   "source": [
    "# Evaluate model performance using the features from the test set (X_test)\n",
    "y_pred = DT.predict(X_test)\n",
    "\n",
    "# Compare predictions (y_pred) with the labels in the test set (y_test)\n",
    "results = confusion_matrix(y_test, y_pred)\n",
    "pd.DataFrame(classification_report(y_test, y_pred, output_dict=True))"
   ],
   "metadata": {
    "collapsed": false,
    "ExecuteTime": {
     "end_time": "2023-11-16T16:32:20.438480Z",
     "start_time": "2023-11-16T16:32:20.429045Z"
    }
   },
   "id": "e4eacd28d769fe6"
  },
  {
   "cell_type": "code",
   "execution_count": 21,
   "outputs": [
    {
     "data": {
      "text/plain": "<Figure size 640x480 with 2 Axes>",
      "image/png": "[encoded data removed]"
     },
     "metadata": {},
     "output_type": "display_data"
    }
   ],
   "source": [
    "# Create the confusion matrix as a figure, we will later store it as a PNG image file\n",
    "df_cm = pd.DataFrame(results, [\"Low\", \"Medium\", \"High\"], columns=[\"Low\", \"Medium\", \"High\"])\n",
    "cm = sns.heatmap(df_cm, annot=True)\n",
    "fig = cm.get_figure()"
   ],
   "metadata": {
    "collapsed": false,
    "ExecuteTime": {
     "end_time": "2023-11-16T16:31:32.179407Z",
     "start_time": "2023-11-16T16:31:32.085485Z"
    }
   },
   "id": "fa89b7b75c8cdb98"
  },
  {
   "cell_type": "markdown",
   "source": [
    "### KNN Classifier"
   ],
   "metadata": {
    "collapsed": false
   },
   "id": "41ae774da0747cae"
  },
  {
   "cell_type": "code",
   "execution_count": 38,
   "outputs": [
    {
     "name": "stdout",
     "output_type": "stream",
     "text": [
      "Fitting 5 folds for each of 6 candidates, totalling 30 fits\n"
     ]
    },
    {
     "data": {
      "text/plain": "Pipeline(steps=[('scl', StandardScaler()),\n                ('gs',\n                 GridSearchCV(cv=5,\n                              estimator=Pipeline(steps=[('clf',\n                                                         KNeighborsClassifier())]),\n                              n_jobs=-1,\n                              param_grid=[{'clf__n_neighbors': [1, 2, 3, 5, 8,\n                                                                13]}],\n                              scoring='accuracy', verbose=1))])",
      "text/html": "<style>#sk-container-id-9 {color: black;background-color: white;}#sk-container-id-9 pre{padding: 0;}#sk-container-id-9 div.sk-toggleable {background-color: white;}#sk-container-id-9 label.sk-toggleable__label {cursor: pointer;display: block;width: 100%;margin-bottom: 0;padding: 0.3em;box-sizing: border-box;text-align: center;}#sk-container-id-9 label.sk-toggleable__label-arrow:before {content: \"▸\";float: left;margin-right: 0.25em;color: #696969;}#sk-container-id-9 label.sk-toggleable__label-arrow:hover:before {color: black;}#sk-container-id-9 div.sk-estimator:hover label.sk-toggleable__label-arrow:before {color: black;}#sk-container-id-9 div.sk-toggleable__content {max-height: 0;max-width: 0;overflow: hidden;text-align: left;background-color: #f0f8ff;}#sk-container-id-9 div.sk-toggleable__content pre {margin: 0.2em;color: black;border-radius: 0.25em;background-color: #f0f8ff;}#sk-container-id-9 input.sk-toggleable__control:checked~div.sk-toggleable__content {max-height: 200px;max-width: 100%;overflow: auto;}#sk-container-id-9 input.sk-toggleable__control:checked~label.sk-toggleable__label-arrow:before {content: \"▾\";}#sk-container-id-9 div.sk-estimator input.sk-toggleable__control:checked~label.sk-toggleable__label {background-color: #d4ebff;}#sk-container-id-9 div.sk-label input.sk-toggleable__control:checked~label.sk-toggleable__label {background-color: #d4ebff;}#sk-container-id-9 input.sk-hidden--visually {border: 0;clip: rect(1px 1px 1px 1px);clip: rect(1px, 1px, 1px, 1px);height: 1px;margin: -1px;overflow: hidden;padding: 0;position: absolute;width: 1px;}#sk-container-id-9 div.sk-estimator {font-family: monospace;background-color: #f0f8ff;border: 1px dotted black;border-radius: 0.25em;box-sizing: border-box;margin-bottom: 0.5em;}#sk-container-id-9 div.sk-estimator:hover {background-color: #d4ebff;}#sk-container-id-9 div.sk-parallel-item::after {content: \"\";width: 100%;border-bottom: 1px solid gray;flex-grow: 1;}#sk-container-id-9 div.sk-label:hover label.sk-toggleable__label {background-color: #d4ebff;}#sk-container-id-9 div.sk-serial::before {content: \"\";position: absolute;border-left: 1px solid gray;box-sizing: border-box;top: 0;bottom: 0;left: 50%;z-index: 0;}#sk-container-id-9 div.sk-serial {display: flex;flex-direction: column;align-items: center;background-color: white;padding-right: 0.2em;padding-left: 0.2em;position: relative;}#sk-container-id-9 div.sk-item {position: relative;z-index: 1;}#sk-container-id-9 div.sk-parallel {display: flex;align-items: stretch;justify-content: center;background-color: white;position: relative;}#sk-container-id-9 div.sk-item::before, #sk-container-id-9 div.sk-parallel-item::before {content: \"\";position: absolute;border-left: 1px solid gray;box-sizing: border-box;top: 0;bottom: 0;left: 50%;z-index: -1;}#sk-container-id-9 div.sk-parallel-item {display: flex;flex-direction: column;z-index: 1;position: relative;background-color: white;}#sk-container-id-9 div.sk-parallel-item:first-child::after {align-self: flex-end;width: 50%;}#sk-container-id-9 div.sk-parallel-item:last-child::after {align-self: flex-start;width: 50%;}#sk-container-id-9 div.sk-parallel-item:only-child::after {width: 0;}#sk-container-id-9 div.sk-dashed-wrapped {border: 1px dashed gray;margin: 0 0.4em 0.5em 0.4em;box-sizing: border-box;padding-bottom: 0.4em;background-color: white;}#sk-container-id-9 div.sk-label label {font-family: monospace;font-weight: bold;display: inline-block;line-height: 1.2em;}#sk-container-id-9 div.sk-label-container {text-align: center;}#sk-container-id-9 div.sk-container {/* jupyter's `normalize.less` sets `[hidden] { display: none; }` but bootstrap.min.css set `[hidden] { display: none !important; }` so we also need the `!important` here to be able to override the default hidden behavior on the sphinx rendered scikit-learn.org. See: https://github.com/scikit-learn/scikit-learn/issues/21755 */display: inline-block !important;position: relative;}#sk-container-id-9 div.sk-text-repr-fallback {display: none;}</style><div id=\"sk-container-id-9\" class=\"sk-top-container\"><div class=\"sk-text-repr-fallback\"><pre>Pipeline(steps=[(&#x27;scl&#x27;, StandardScaler()),\n                (&#x27;gs&#x27;,\n                 GridSearchCV(cv=5,\n                              estimator=Pipeline(steps=[(&#x27;clf&#x27;,\n                                                         KNeighborsClassifier())]),\n                              n_jobs=-1,\n                              param_grid=[{&#x27;clf__n_neighbors&#x27;: [1, 2, 3, 5, 8,\n                                                                13]}],\n                              scoring=&#x27;accuracy&#x27;, verbose=1))])</pre><b>In a Jupyter environment, please rerun this cell to show the HTML representation or trust the notebook. <br />On GitHub, the HTML representation is unable to render, please try loading this page with nbviewer.org.</b></div><div class=\"sk-container\" hidden><div class=\"sk-item sk-dashed-wrapped\"><div class=\"sk-label-container\"><div class=\"sk-label sk-toggleable\"><input class=\"sk-toggleable__control sk-hidden--visually\" id=\"sk-estimator-id-24\" type=\"checkbox\" ><label for=\"sk-estimator-id-24\" class=\"sk-toggleable__label sk-toggleable__label-arrow\">Pipeline</label><div class=\"sk-toggleable__content\"><pre>Pipeline(steps=[(&#x27;scl&#x27;, StandardScaler()),\n                (&#x27;gs&#x27;,\n                 GridSearchCV(cv=5,\n                              estimator=Pipeline(steps=[(&#x27;clf&#x27;,\n                                                         KNeighborsClassifier())]),\n                              n_jobs=-1,\n                              param_grid=[{&#x27;clf__n_neighbors&#x27;: [1, 2, 3, 5, 8,\n                                                                13]}],\n                              scoring=&#x27;accuracy&#x27;, verbose=1))])</pre></div></div></div><div class=\"sk-serial\"><div class=\"sk-item\"><div class=\"sk-estimator sk-toggleable\"><input class=\"sk-toggleable__control sk-hidden--visually\" id=\"sk-estimator-id-25\" type=\"checkbox\" ><label for=\"sk-estimator-id-25\" class=\"sk-toggleable__label sk-toggleable__label-arrow\">StandardScaler</label><div class=\"sk-toggleable__content\"><pre>StandardScaler()</pre></div></div></div><div class=\"sk-item sk-dashed-wrapped\"><div class=\"sk-label-container\"><div class=\"sk-label sk-toggleable\"><input class=\"sk-toggleable__control sk-hidden--visually\" id=\"sk-estimator-id-26\" type=\"checkbox\" ><label for=\"sk-estimator-id-26\" class=\"sk-toggleable__label sk-toggleable__label-arrow\">gs: GridSearchCV</label><div class=\"sk-toggleable__content\"><pre>GridSearchCV(cv=5, estimator=Pipeline(steps=[(&#x27;clf&#x27;, KNeighborsClassifier())]),\n             n_jobs=-1, param_grid=[{&#x27;clf__n_neighbors&#x27;: [1, 2, 3, 5, 8, 13]}],\n             scoring=&#x27;accuracy&#x27;, verbose=1)</pre></div></div></div><div class=\"sk-parallel\"><div class=\"sk-parallel-item\"><div class=\"sk-item\"><div class=\"sk-label-container\"><div class=\"sk-label sk-toggleable\"><input class=\"sk-toggleable__control sk-hidden--visually\" id=\"sk-estimator-id-27\" type=\"checkbox\" ><label for=\"sk-estimator-id-27\" class=\"sk-toggleable__label sk-toggleable__label-arrow\">estimator: Pipeline</label><div class=\"sk-toggleable__content\"><pre>Pipeline(steps=[(&#x27;clf&#x27;, KNeighborsClassifier())])</pre></div></div></div><div class=\"sk-serial\"><div class=\"sk-item\"><div class=\"sk-serial\"><div class=\"sk-item\"><div class=\"sk-estimator sk-toggleable\"><input class=\"sk-toggleable__control sk-hidden--visually\" id=\"sk-estimator-id-28\" type=\"checkbox\" ><label for=\"sk-estimator-id-28\" class=\"sk-toggleable__label sk-toggleable__label-arrow\">KNeighborsClassifier</label><div class=\"sk-toggleable__content\"><pre>KNeighborsClassifier()</pre></div></div></div></div></div></div></div></div></div></div></div></div></div></div>"
     },
     "execution_count": 38,
     "metadata": {},
     "output_type": "execute_result"
    }
   ],
   "source": [
    "clf = Pipeline([\n",
    "    ('clf', KNeighborsClassifier())\n",
    "])\n",
    "\n",
    "# a list of dictionaries to specify the parameters that we'd want to tune\n",
    "n_neighbors = [1, 2, 3, 5, 8, 13]\n",
    "\n",
    "param_grid = \\\n",
    "    [{\n",
    "        'clf__n_neighbors': n_neighbors\n",
    "    }]\n",
    "\n",
    "gs = GridSearchCV(estimator=clf, param_grid=param_grid, scoring='accuracy', cv=5, verbose=1, n_jobs=-1)\n",
    "DT = Pipeline([\n",
    "    ('scl', StandardScaler()),\n",
    "    ('gs', gs)\n",
    "])\n",
    "\n",
    "DT.fit(X_train, y_train.values.ravel())"
   ],
   "metadata": {
    "collapsed": false,
    "ExecuteTime": {
     "end_time": "2023-11-16T16:37:16.345956Z",
     "start_time": "2023-11-16T16:37:16.187675Z"
    }
   },
   "id": "718d5c80858944fa"
  },
  {
   "cell_type": "code",
   "execution_count": 39,
   "outputs": [
    {
     "data": {
      "text/plain": "                    0           1           2  accuracy    macro avg  \\\nprecision    0.612732    0.515267    0.544304  0.554297     0.557434   \nrecall       0.607895    0.589520    0.389140  0.554297     0.528852   \nf1-score     0.610304    0.549898    0.453826  0.554297     0.538009   \nsupport    380.000000  458.000000  221.000000  0.554297  1059.000000   \n\n           weighted avg  \nprecision      0.556300  \nrecall         0.554297  \nf1-score       0.551524  \nsupport     1059.000000  ",
      "text/html": "<div>\n<style scoped>\n    .dataframe tbody tr th:only-of-type {\n        vertical-align: middle;\n    }\n\n    .dataframe tbody tr th {\n        vertical-align: top;\n    }\n\n    .dataframe thead th {\n        text-align: right;\n    }\n</style>\n<table border=\"1\" class=\"dataframe\">\n  <thead>\n    <tr style=\"text-align: right;\">\n      <th></th>\n      <th>0</th>\n      <th>1</th>\n      <th>2</th>\n      <th>accuracy</th>\n      <th>macro avg</th>\n      <th>weighted avg</th>\n    </tr>\n  </thead>\n  <tbody>\n    <tr>\n      <th>precision</th>\n      <td>0.612732</td>\n      <td>0.515267</td>\n      <td>0.544304</td>\n      <td>0.554297</td>\n      <td>0.557434</td>\n      <td>0.556300</td>\n    </tr>\n    <tr>\n      <th>recall</th>\n      <td>0.607895</td>\n      <td>0.589520</td>\n      <td>0.389140</td>\n      <td>0.554297</td>\n      <td>0.528852</td>\n      <td>0.554297</td>\n    </tr>\n    <tr>\n      <th>f1-score</th>\n      <td>0.610304</td>\n      <td>0.549898</td>\n      <td>0.453826</td>\n      <td>0.554297</td>\n      <td>0.538009</td>\n      <td>0.551524</td>\n    </tr>\n    <tr>\n      <th>support</th>\n      <td>380.000000</td>\n      <td>458.000000</td>\n      <td>221.000000</td>\n      <td>0.554297</td>\n      <td>1059.000000</td>\n      <td>1059.000000</td>\n    </tr>\n  </tbody>\n</table>\n</div>"
     },
     "execution_count": 39,
     "metadata": {},
     "output_type": "execute_result"
    }
   ],
   "source": [
    "# Evaluate model performance using the features from the test set (X_test)\n",
    "y_pred = DT.predict(X_test)\n",
    "\n",
    "# Compare predictions (y_pred) with the labels in the test set (y_test)\n",
    "results = confusion_matrix(y_test, y_pred)\n",
    "pd.DataFrame(classification_report(y_test, y_pred, output_dict=True))"
   ],
   "metadata": {
    "collapsed": false,
    "ExecuteTime": {
     "end_time": "2023-11-16T16:37:27.968942Z",
     "start_time": "2023-11-16T16:37:27.907954Z"
    }
   },
   "id": "af93ebf864417f6f"
  },
  {
   "cell_type": "code",
   "execution_count": 40,
   "outputs": [
    {
     "data": {
      "text/plain": "<Figure size 640x480 with 2 Axes>",
      "image/png": "[encoded data removed]"
     },
     "metadata": {},
     "output_type": "display_data"
    }
   ],
   "source": [
    "df_cm = pd.DataFrame(results, [\"Low\", \"Medium\", \"High\"], columns=[\"Low\", \"Medium\", \"High\"])\n",
    "cm = sns.heatmap(df_cm, annot=True)\n",
    "fig = cm.get_figure()"
   ],
   "metadata": {
    "collapsed": false,
    "ExecuteTime": {
     "end_time": "2023-11-16T16:38:11.308355Z",
     "start_time": "2023-11-16T16:38:11.213673Z"
    }
   },
   "id": "33dcd2ba2e1e82f4"
  },
  {
   "cell_type": "markdown",
   "source": [
    "### SVM"
   ],
   "metadata": {
    "collapsed": false
   },
   "id": "36555c518b98bc51"
  },
  {
   "cell_type": "code",
   "execution_count": 47,
   "outputs": [
    {
     "name": "stdout",
     "output_type": "stream",
     "text": [
      "Fitting 5 folds for each of 5 candidates, totalling 25 fits\n"
     ]
    },
    {
     "data": {
      "text/plain": "Pipeline(steps=[('scl', StandardScaler()),\n                ('gs',\n                 GridSearchCV(cv=5, estimator=Pipeline(steps=[('clf', SVC())]),\n                              n_jobs=-1,\n                              param_grid=[{'clf__C': [0.1, 0.25, 0.5, 0.75,\n                                                      1]}],\n                              scoring='accuracy', verbose=1))])",
      "text/html": "<style>#sk-container-id-11 {color: black;background-color: white;}#sk-container-id-11 pre{padding: 0;}#sk-container-id-11 div.sk-toggleable {background-color: white;}#sk-container-id-11 label.sk-toggleable__label {cursor: pointer;display: block;width: 100%;margin-bottom: 0;padding: 0.3em;box-sizing: border-box;text-align: center;}#sk-container-id-11 label.sk-toggleable__label-arrow:before {content: \"▸\";float: left;margin-right: 0.25em;color: #696969;}#sk-container-id-11 label.sk-toggleable__label-arrow:hover:before {color: black;}#sk-container-id-11 div.sk-estimator:hover label.sk-toggleable__label-arrow:before {color: black;}#sk-container-id-11 div.sk-toggleable__content {max-height: 0;max-width: 0;overflow: hidden;text-align: left;background-color: #f0f8ff;}#sk-container-id-11 div.sk-toggleable__content pre {margin: 0.2em;color: black;border-radius: 0.25em;background-color: #f0f8ff;}#sk-container-id-11 input.sk-toggleable__control:checked~div.sk-toggleable__content {max-height: 200px;max-width: 100%;overflow: auto;}#sk-container-id-11 input.sk-toggleable__control:checked~label.sk-toggleable__label-arrow:before {content: \"▾\";}#sk-container-id-11 div.sk-estimator input.sk-toggleable__control:checked~label.sk-toggleable__label {background-color: #d4ebff;}#sk-container-id-11 div.sk-label input.sk-toggleable__control:checked~label.sk-toggleable__label {background-color: #d4ebff;}#sk-container-id-11 input.sk-hidden--visually {border: 0;clip: rect(1px 1px 1px 1px);clip: rect(1px, 1px, 1px, 1px);height: 1px;margin: -1px;overflow: hidden;padding: 0;position: absolute;width: 1px;}#sk-container-id-11 div.sk-estimator {font-family: monospace;background-color: #f0f8ff;border: 1px dotted black;border-radius: 0.25em;box-sizing: border-box;margin-bottom: 0.5em;}#sk-container-id-11 div.sk-estimator:hover {background-color: #d4ebff;}#sk-container-id-11 div.sk-parallel-item::after {content: \"\";width: 100%;border-bottom: 1px solid gray;flex-grow: 1;}#sk-container-id-11 div.sk-label:hover label.sk-toggleable__label {background-color: #d4ebff;}#sk-container-id-11 div.sk-serial::before {content: \"\";position: absolute;border-left: 1px solid gray;box-sizing: border-box;top: 0;bottom: 0;left: 50%;z-index: 0;}#sk-container-id-11 div.sk-serial {display: flex;flex-direction: column;align-items: center;background-color: white;padding-right: 0.2em;padding-left: 0.2em;position: relative;}#sk-container-id-11 div.sk-item {position: relative;z-index: 1;}#sk-container-id-11 div.sk-parallel {display: flex;align-items: stretch;justify-content: center;background-color: white;position: relative;}#sk-container-id-11 div.sk-item::before, #sk-container-id-11 div.sk-parallel-item::before {content: \"\";position: absolute;border-left: 1px solid gray;box-sizing: border-box;top: 0;bottom: 0;left: 50%;z-index: -1;}#sk-container-id-11 div.sk-parallel-item {display: flex;flex-direction: column;z-index: 1;position: relative;background-color: white;}#sk-container-id-11 div.sk-parallel-item:first-child::after {align-self: flex-end;width: 50%;}#sk-container-id-11 div.sk-parallel-item:last-child::after {align-self: flex-start;width: 50%;}#sk-container-id-11 div.sk-parallel-item:only-child::after {width: 0;}#sk-container-id-11 div.sk-dashed-wrapped {border: 1px dashed gray;margin: 0 0.4em 0.5em 0.4em;box-sizing: border-box;padding-bottom: 0.4em;background-color: white;}#sk-container-id-11 div.sk-label label {font-family: monospace;font-weight: bold;display: inline-block;line-height: 1.2em;}#sk-container-id-11 div.sk-label-container {text-align: center;}#sk-container-id-11 div.sk-container {/* jupyter's `normalize.less` sets `[hidden] { display: none; }` but bootstrap.min.css set `[hidden] { display: none !important; }` so we also need the `!important` here to be able to override the default hidden behavior on the sphinx rendered scikit-learn.org. See: https://github.com/scikit-learn/scikit-learn/issues/21755 */display: inline-block !important;position: relative;}#sk-container-id-11 div.sk-text-repr-fallback {display: none;}</style><div id=\"sk-container-id-11\" class=\"sk-top-container\"><div class=\"sk-text-repr-fallback\"><pre>Pipeline(steps=[(&#x27;scl&#x27;, StandardScaler()),\n                (&#x27;gs&#x27;,\n                 GridSearchCV(cv=5, estimator=Pipeline(steps=[(&#x27;clf&#x27;, SVC())]),\n                              n_jobs=-1,\n                              param_grid=[{&#x27;clf__C&#x27;: [0.1, 0.25, 0.5, 0.75,\n                                                      1]}],\n                              scoring=&#x27;accuracy&#x27;, verbose=1))])</pre><b>In a Jupyter environment, please rerun this cell to show the HTML representation or trust the notebook. <br />On GitHub, the HTML representation is unable to render, please try loading this page with nbviewer.org.</b></div><div class=\"sk-container\" hidden><div class=\"sk-item sk-dashed-wrapped\"><div class=\"sk-label-container\"><div class=\"sk-label sk-toggleable\"><input class=\"sk-toggleable__control sk-hidden--visually\" id=\"sk-estimator-id-34\" type=\"checkbox\" ><label for=\"sk-estimator-id-34\" class=\"sk-toggleable__label sk-toggleable__label-arrow\">Pipeline</label><div class=\"sk-toggleable__content\"><pre>Pipeline(steps=[(&#x27;scl&#x27;, StandardScaler()),\n                (&#x27;gs&#x27;,\n                 GridSearchCV(cv=5, estimator=Pipeline(steps=[(&#x27;clf&#x27;, SVC())]),\n                              n_jobs=-1,\n                              param_grid=[{&#x27;clf__C&#x27;: [0.1, 0.25, 0.5, 0.75,\n                                                      1]}],\n                              scoring=&#x27;accuracy&#x27;, verbose=1))])</pre></div></div></div><div class=\"sk-serial\"><div class=\"sk-item\"><div class=\"sk-estimator sk-toggleable\"><input class=\"sk-toggleable__control sk-hidden--visually\" id=\"sk-estimator-id-35\" type=\"checkbox\" ><label for=\"sk-estimator-id-35\" class=\"sk-toggleable__label sk-toggleable__label-arrow\">StandardScaler</label><div class=\"sk-toggleable__content\"><pre>StandardScaler()</pre></div></div></div><div class=\"sk-item sk-dashed-wrapped\"><div class=\"sk-label-container\"><div class=\"sk-label sk-toggleable\"><input class=\"sk-toggleable__control sk-hidden--visually\" id=\"sk-estimator-id-36\" type=\"checkbox\" ><label for=\"sk-estimator-id-36\" class=\"sk-toggleable__label sk-toggleable__label-arrow\">gs: GridSearchCV</label><div class=\"sk-toggleable__content\"><pre>GridSearchCV(cv=5, estimator=Pipeline(steps=[(&#x27;clf&#x27;, SVC())]), n_jobs=-1,\n             param_grid=[{&#x27;clf__C&#x27;: [0.1, 0.25, 0.5, 0.75, 1]}],\n             scoring=&#x27;accuracy&#x27;, verbose=1)</pre></div></div></div><div class=\"sk-parallel\"><div class=\"sk-parallel-item\"><div class=\"sk-item\"><div class=\"sk-label-container\"><div class=\"sk-label sk-toggleable\"><input class=\"sk-toggleable__control sk-hidden--visually\" id=\"sk-estimator-id-37\" type=\"checkbox\" ><label for=\"sk-estimator-id-37\" class=\"sk-toggleable__label sk-toggleable__label-arrow\">estimator: Pipeline</label><div class=\"sk-toggleable__content\"><pre>Pipeline(steps=[(&#x27;clf&#x27;, SVC())])</pre></div></div></div><div class=\"sk-serial\"><div class=\"sk-item\"><div class=\"sk-serial\"><div class=\"sk-item\"><div class=\"sk-estimator sk-toggleable\"><input class=\"sk-toggleable__control sk-hidden--visually\" id=\"sk-estimator-id-38\" type=\"checkbox\" ><label for=\"sk-estimator-id-38\" class=\"sk-toggleable__label sk-toggleable__label-arrow\">SVC</label><div class=\"sk-toggleable__content\"><pre>SVC()</pre></div></div></div></div></div></div></div></div></div></div></div></div></div></div>"
     },
     "execution_count": 47,
     "metadata": {},
     "output_type": "execute_result"
    }
   ],
   "source": [
    "clf = Pipeline([\n",
    "    ('clf', SVC())\n",
    "])\n",
    "\n",
    "# a list of dictionaries to specify the parameters that we'd want to tune\n",
    "c_values = [0.1, 0.25, 0.5, 0.75, 1]\n",
    "\n",
    "param_grid = \\\n",
    "    [{\n",
    "        'clf__C': c_values\n",
    "    }]\n",
    "\n",
    "gs = GridSearchCV(estimator=clf, param_grid=param_grid, scoring='accuracy', cv=5, verbose=1, n_jobs=-1)\n",
    "DT = Pipeline([\n",
    "    ('scl', StandardScaler()),\n",
    "    ('gs', gs)\n",
    "])\n",
    "\n",
    "DT.fit(X_train, y_train.values.ravel())"
   ],
   "metadata": {
    "collapsed": false,
    "ExecuteTime": {
     "end_time": "2023-11-16T16:43:42.060018Z",
     "start_time": "2023-11-16T16:43:40.322955Z"
    }
   },
   "id": "74b3e0cb929a084d"
  },
  {
   "cell_type": "code",
   "execution_count": 50,
   "outputs": [
    {
     "data": {
      "text/plain": "                    0           1           2  accuracy   macro avg  \\\nprecision    0.657825    0.523726    0.619469  0.581681     0.60034   \nrecall       0.652632    0.650655    0.316742  0.581681     0.54001   \nf1-score     0.655218    0.580331    0.419162  0.581681     0.55157   \nsupport    380.000000  458.000000  221.000000  0.581681  1059.00000   \n\n           weighted avg  \nprecision      0.591825  \nrecall         0.581681  \nf1-score       0.573569  \nsupport     1059.000000  ",
      "text/html": "<div>\n<style scoped>\n    .dataframe tbody tr th:only-of-type {\n        vertical-align: middle;\n    }\n\n    .dataframe tbody tr th {\n        vertical-align: top;\n    }\n\n    .dataframe thead th {\n        text-align: right;\n    }\n</style>\n<table border=\"1\" class=\"dataframe\">\n  <thead>\n    <tr style=\"text-align: right;\">\n      <th></th>\n      <th>0</th>\n      <th>1</th>\n      <th>2</th>\n      <th>accuracy</th>\n      <th>macro avg</th>\n      <th>weighted avg</th>\n    </tr>\n  </thead>\n  <tbody>\n    <tr>\n      <th>precision</th>\n      <td>0.657825</td>\n      <td>0.523726</td>\n      <td>0.619469</td>\n      <td>0.581681</td>\n      <td>0.60034</td>\n      <td>0.591825</td>\n    </tr>\n    <tr>\n      <th>recall</th>\n      <td>0.652632</td>\n      <td>0.650655</td>\n      <td>0.316742</td>\n      <td>0.581681</td>\n      <td>0.54001</td>\n      <td>0.581681</td>\n    </tr>\n    <tr>\n      <th>f1-score</th>\n      <td>0.655218</td>\n      <td>0.580331</td>\n      <td>0.419162</td>\n      <td>0.581681</td>\n      <td>0.55157</td>\n      <td>0.573569</td>\n    </tr>\n    <tr>\n      <th>support</th>\n      <td>380.000000</td>\n      <td>458.000000</td>\n      <td>221.000000</td>\n      <td>0.581681</td>\n      <td>1059.00000</td>\n      <td>1059.000000</td>\n    </tr>\n  </tbody>\n</table>\n</div>"
     },
     "execution_count": 50,
     "metadata": {},
     "output_type": "execute_result"
    }
   ],
   "source": [
    "# Evaluate model performance using the features from the test set (X_test)\n",
    "y_pred = DT.predict(X_test)\n",
    "\n",
    "# Compare predictions (y_pred) with the labels in the test set (y_test)\n",
    "results = confusion_matrix(y_test, y_pred)\n",
    "metrics = classification_report(y_test, y_pred, output_dict=True)\n",
    "pd.DataFrame(metrics)"
   ],
   "metadata": {
    "collapsed": false,
    "ExecuteTime": {
     "end_time": "2023-11-16T16:45:59.741252Z",
     "start_time": "2023-11-16T16:45:59.622314Z"
    }
   },
   "id": "7578519a3350db8d"
  },
  {
   "cell_type": "code",
   "execution_count": 51,
   "outputs": [
    {
     "data": {
      "text/plain": "<Figure size 640x480 with 2 Axes>",
      "image/png": "[encoded data removed]"
     },
     "metadata": {},
     "output_type": "display_data"
    }
   ],
   "source": [
    "df_cm = pd.DataFrame(results, [\"Low\", \"Medium\", \"High\"], columns=[\"Low\", \"Medium\", \"High\"])\n",
    "cm = sns.heatmap(df_cm, annot=True)\n",
    "fig = cm.get_figure()"
   ],
   "metadata": {
    "collapsed": false,
    "ExecuteTime": {
     "end_time": "2023-11-16T16:46:02.634723Z",
     "start_time": "2023-11-16T16:46:02.537914Z"
    }
   },
   "id": "d0338ebda1e4893a"
  },
  {
   "cell_type": "markdown",
   "source": [
    "## Model upload to Hopsworks"
   ],
   "metadata": {
    "collapsed": false
   },
   "id": "1678081d850e8f30"
  },
  {
   "cell_type": "code",
   "execution_count": 52,
   "outputs": [
    {
     "name": "stdout",
     "output_type": "stream",
     "text": [
      "Connected. Call `.close()` to terminate connection gracefully.\n"
     ]
    },
    {
     "name": "stderr",
     "output_type": "stream",
     "text": [
      "DeprecationWarning: The `ipykernel.comm.Comm` class has been deprecated. Please use the `comm` module instead.For creating comms, use the function `from comm import create_comm`.\n"
     ]
    },
    {
     "data": {
      "text/plain": "  0%|          | 0/6 [00:00<?, ?it/s]",
      "application/vnd.jupyter.widget-view+json": {
       "version_major": 2,
       "version_minor": 0,
       "model_id": "97b8809511bb4fa08f90cccdc137b6f5"
      }
     },
     "metadata": {},
     "output_type": "display_data"
    },
    {
     "name": "stdout",
     "output_type": "stream",
     "text": [
      "Model created, explore it at https://c.app.hopsworks.ai:443/p/209044/models/wine_model/1\n"
     ]
    },
    {
     "data": {
      "text/plain": "Model(name: 'wine_model', version: 1)"
     },
     "execution_count": 52,
     "metadata": {},
     "output_type": "execute_result"
    }
   ],
   "source": [
    "# We will now upload our model to the Hopsworks Model Registry. First get an object for the model registry.\n",
    "mr = project.get_model_registry()\n",
    "\n",
    "# The contents of the 'wine_model' directory will be saved to the model registry. Create the dir, first.\n",
    "model_dir = \"model\"\n",
    "if os.path.isdir(model_dir) == False:\n",
    "    os.mkdir(model_dir)\n",
    "\n",
    "# Save both our model and the confusion matrix to 'model_dir', whose contents will be uploaded to the model registry\n",
    "joblib.dump(model, model_dir + \"/wine_model.pkl\")\n",
    "fig.savefig(model_dir + \"/confusion_matrix.png\")\n",
    "\n",
    "# Specify the schema of the model's input/output using the features (X_train) and labels (y_train)\n",
    "input_schema = Schema(X_train)\n",
    "output_schema = Schema(y_train)\n",
    "model_schema = ModelSchema(input_schema, output_schema)\n",
    "\n",
    "# Create an entry in the model registry that includes the model's name, desc, metrics\n",
    "wine_model = mr.python.create_model(\n",
    "    name=\"wine_model\",\n",
    "    metrics={\"accuracy\": metrics['accuracy']},\n",
    "    model_schema=model_schema,\n",
    "    description=\"Wine Quality Predictor\"\n",
    ")\n",
    "\n",
    "# Upload the model to the model registry, including all files in 'model_dir'\n",
    "wine_model.save(model_dir)"
   ],
   "metadata": {
    "collapsed": false,
    "ExecuteTime": {
     "end_time": "2023-11-16T16:46:52.487706Z",
     "start_time": "2023-11-16T16:46:27.243482Z"
    }
   },
   "id": "7e3e26e9cfd4b5b4"
  },
  {
   "cell_type": "code",
   "execution_count": null,
   "outputs": [],
   "source": [],
   "metadata": {
    "collapsed": false
   },
   "id": "a92886122b122f36"
  }
 ],
 "metadata": {
  "kernelspec": {
   "display_name": "Python 3",
   "language": "python",
   "name": "python3"
  },
  "language_info": {
   "codemirror_mode": {
    "name": "ipython",
    "version": 2
   },
   "file_extension": ".py",
   "mimetype": "text/x-python",
   "name": "python",
   "nbconvert_exporter": "python",
   "pygments_lexer": "ipython2",
   "version": "2.7.6"
  }
 },
 "nbformat": 4,
 "nbformat_minor": 5
}
