{
 "cells": [
  {
   "cell_type": "code",
   "execution_count": 2,
   "outputs": [],
   "source": [
    "import gradio as gr\n",
    "import hopsworks\n",
    "import joblib\n",
    "import pandas as pd"
   ],
   "metadata": {
    "collapsed": false,
    "ExecuteTime": {
     "end_time": "2023-11-18T15:18:52.115724Z",
     "start_time": "2023-11-18T15:18:50.054721Z"
    }
   },
   "id": "ec41261b2961a051"
  },
  {
   "cell_type": "code",
   "execution_count": 3,
   "outputs": [],
   "source": [
    "# Load .env variables in environment\n",
    "\n",
    "%reload_ext dotenv\n",
    "%dotenv"
   ],
   "metadata": {
    "collapsed": false,
    "ExecuteTime": {
     "end_time": "2023-11-18T15:18:52.123152Z",
     "start_time": "2023-11-18T15:18:52.118229Z"
    }
   },
   "id": "e36c680b3cb49c8c"
  },
  {
   "cell_type": "code",
   "execution_count": 4,
   "id": "initial_id",
   "metadata": {
    "collapsed": true,
    "ExecuteTime": {
     "end_time": "2023-11-18T15:20:40.522563Z",
     "start_time": "2023-11-18T15:18:52.124199Z"
    }
   },
   "outputs": [
    {
     "name": "stdout",
     "output_type": "stream",
     "text": [
      "Connected. Call `.close()` to terminate connection gracefully.\n",
      "\n",
      "Logged in to project, explore it here https://c.app.hopsworks.ai:443/p/209044\n",
      "Connected. Call `.close()` to terminate connection gracefully.\n",
      "Connected. Call `.close()` to terminate connection gracefully.\n",
      "Downloading file ... Model downloaded\n"
     ]
    }
   ],
   "source": [
    "features = ['fixed_acidity',\n",
    "            'volatile_acidity',\n",
    "            'citric_acid',\n",
    "            'residual_sugar',\n",
    "            'chlorides',\n",
    "            'free_sulfur_dioxide',\n",
    "            'total_sulfur_dioxide',\n",
    "            'density',\n",
    "            'pH',\n",
    "            'sulphates',\n",
    "            'alcohol',\n",
    "            'is_white']\n",
    "labels = [\"Low\", \"Medium\", \"High\"]\n",
    "\n",
    "project = hopsworks.login()\n",
    "fs = project.get_feature_store()\n",
    "\n",
    "mr = project.get_model_registry()\n",
    "model = mr.get_model(\"wine_model\", version=1)\n",
    "model_dir = model.download()\n",
    "model = joblib.load(model_dir + \"/wine_model.pkl\")\n",
    "print(\"Model downloaded\")"
   ]
  },
  {
   "cell_type": "code",
   "execution_count": 1,
   "outputs": [
    {
     "ename": "NameError",
     "evalue": "name 'gr' is not defined",
     "output_type": "error",
     "traceback": [
      "\u001B[0;31m---------------------------------------------------------------------------\u001B[0m",
      "\u001B[0;31mNameError\u001B[0m                                 Traceback (most recent call last)",
      "Cell \u001B[0;32mIn[1], line 18\u001B[0m\n\u001B[1;32m     13\u001B[0m     \u001B[38;5;28mprint\u001B[39m(res)\n\u001B[1;32m     15\u001B[0m     \u001B[38;5;28;01mreturn\u001B[39;00m \u001B[38;5;124mf\u001B[39m\u001B[38;5;124m\"\u001B[39m\u001B[38;5;132;01m{\u001B[39;00mlabels[res[\u001B[38;5;241m0\u001B[39m]]\u001B[38;5;132;01m}\u001B[39;00m\u001B[38;5;124m quality\u001B[39m\u001B[38;5;124m\"\u001B[39m\n\u001B[0;32m---> 18\u001B[0m demo \u001B[38;5;241m=\u001B[39m \u001B[43mgr\u001B[49m\u001B[38;5;241m.\u001B[39mInterface(\n\u001B[1;32m     19\u001B[0m     fn\u001B[38;5;241m=\u001B[39mwine,\n\u001B[1;32m     20\u001B[0m     title\u001B[38;5;241m=\u001B[39m\u001B[38;5;124m\"\u001B[39m\u001B[38;5;124mWine Quality Predictive Analytics\u001B[39m\u001B[38;5;124m\"\u001B[39m,\n\u001B[1;32m     21\u001B[0m     description\u001B[38;5;241m=\u001B[39m\u001B[38;5;124m\"\u001B[39m\u001B[38;5;124mExperiment with wine characteristics to get the wine quality (low, medium, high)\u001B[39m\u001B[38;5;124m\"\u001B[39m,\n\u001B[1;32m     22\u001B[0m     allow_flagging\u001B[38;5;241m=\u001B[39m\u001B[38;5;124m\"\u001B[39m\u001B[38;5;124mnever\u001B[39m\u001B[38;5;124m\"\u001B[39m,\n\u001B[1;32m     23\u001B[0m     inputs\u001B[38;5;241m=\u001B[39m[\n\u001B[1;32m     24\u001B[0m         gr\u001B[38;5;241m.\u001B[39mcomponents\u001B[38;5;241m.\u001B[39mNumber(label\u001B[38;5;241m=\u001B[39m\u001B[38;5;124m'\u001B[39m\u001B[38;5;124mfixed acidity\u001B[39m\u001B[38;5;124m'\u001B[39m),\n\u001B[1;32m     25\u001B[0m         gr\u001B[38;5;241m.\u001B[39mcomponents\u001B[38;5;241m.\u001B[39mNumber(label\u001B[38;5;241m=\u001B[39m\u001B[38;5;124m'\u001B[39m\u001B[38;5;124mvolatile acidity\u001B[39m\u001B[38;5;124m'\u001B[39m),\n\u001B[1;32m     26\u001B[0m         gr\u001B[38;5;241m.\u001B[39mcomponents\u001B[38;5;241m.\u001B[39mNumber(label\u001B[38;5;241m=\u001B[39m\u001B[38;5;124m'\u001B[39m\u001B[38;5;124mcitric acid\u001B[39m\u001B[38;5;124m'\u001B[39m),\n\u001B[1;32m     27\u001B[0m         gr\u001B[38;5;241m.\u001B[39mcomponents\u001B[38;5;241m.\u001B[39mNumber(label\u001B[38;5;241m=\u001B[39m\u001B[38;5;124m'\u001B[39m\u001B[38;5;124mresidual sugar\u001B[39m\u001B[38;5;124m'\u001B[39m),\n\u001B[1;32m     28\u001B[0m         gr\u001B[38;5;241m.\u001B[39mcomponents\u001B[38;5;241m.\u001B[39mNumber(label\u001B[38;5;241m=\u001B[39m\u001B[38;5;124m'\u001B[39m\u001B[38;5;124mchlorides\u001B[39m\u001B[38;5;124m'\u001B[39m),\n\u001B[1;32m     29\u001B[0m         gr\u001B[38;5;241m.\u001B[39mcomponents\u001B[38;5;241m.\u001B[39mNumber(label\u001B[38;5;241m=\u001B[39m\u001B[38;5;124m'\u001B[39m\u001B[38;5;124mfree sulfur dioxide\u001B[39m\u001B[38;5;124m'\u001B[39m),\n\u001B[1;32m     30\u001B[0m         gr\u001B[38;5;241m.\u001B[39mcomponents\u001B[38;5;241m.\u001B[39mNumber(label\u001B[38;5;241m=\u001B[39m\u001B[38;5;124m'\u001B[39m\u001B[38;5;124mtotal sulfur dioxide\u001B[39m\u001B[38;5;124m'\u001B[39m),\n\u001B[1;32m     31\u001B[0m         gr\u001B[38;5;241m.\u001B[39mcomponents\u001B[38;5;241m.\u001B[39mNumber(label\u001B[38;5;241m=\u001B[39m\u001B[38;5;124m'\u001B[39m\u001B[38;5;124mdensity\u001B[39m\u001B[38;5;124m'\u001B[39m),\n\u001B[1;32m     32\u001B[0m         gr\u001B[38;5;241m.\u001B[39mcomponents\u001B[38;5;241m.\u001B[39mNumber(label\u001B[38;5;241m=\u001B[39m\u001B[38;5;124m'\u001B[39m\u001B[38;5;124mpH\u001B[39m\u001B[38;5;124m'\u001B[39m),\n\u001B[1;32m     33\u001B[0m         gr\u001B[38;5;241m.\u001B[39mcomponents\u001B[38;5;241m.\u001B[39mNumber(label\u001B[38;5;241m=\u001B[39m\u001B[38;5;124m'\u001B[39m\u001B[38;5;124msulphates\u001B[39m\u001B[38;5;124m'\u001B[39m),\n\u001B[1;32m     34\u001B[0m         gr\u001B[38;5;241m.\u001B[39mcomponents\u001B[38;5;241m.\u001B[39mNumber(label\u001B[38;5;241m=\u001B[39m\u001B[38;5;124m'\u001B[39m\u001B[38;5;124malcohol\u001B[39m\u001B[38;5;124m'\u001B[39m),\n\u001B[1;32m     35\u001B[0m         gr\u001B[38;5;241m.\u001B[39mcomponents\u001B[38;5;241m.\u001B[39mCheckbox(label\u001B[38;5;241m=\u001B[39m\u001B[38;5;124m'\u001B[39m\u001B[38;5;124mis white\u001B[39m\u001B[38;5;124m'\u001B[39m),\n\u001B[1;32m     36\u001B[0m     ],\n\u001B[1;32m     37\u001B[0m     outputs\u001B[38;5;241m=\u001B[39mgr\u001B[38;5;241m.\u001B[39mText())\n\u001B[1;32m     39\u001B[0m demo\u001B[38;5;241m.\u001B[39mlaunch(debug\u001B[38;5;241m=\u001B[39m\u001B[38;5;28;01mTrue\u001B[39;00m)\n",
      "\u001B[0;31mNameError\u001B[0m: name 'gr' is not defined"
     ]
    }
   ],
   "source": [
    "def wine(fixed_acidity, volatile_acidity, citric_acid, residual_sugar, chlorides, free_sulfur_dioxide,\n",
    "         total_sulfur_dioxide, density, pH, sulphates, alcohol, white) -> str:\n",
    "    print(\"Calling function\")\n",
    "    df = pd.DataFrame([[fixed_acidity, volatile_acidity, citric_acid, residual_sugar, chlorides, free_sulfur_dioxide,\n",
    "         total_sulfur_dioxide, density, pH, sulphates, alcohol, white]], columns=features)\n",
    "    print(\"Predicting\")\n",
    "    print(df)\n",
    "    # 'res' is a list of predictions returned as the label.\n",
    "    res = model.predict(df)\n",
    "    # We add '[0]' to the result of the transformed 'res', because 'res' is a list, and we only want\n",
    "    # the first element.\n",
    "    #     print(\"Res: {0}\").format(res)\n",
    "    print(res)\n",
    "\n",
    "    return f\"{labels[res[0]]} quality\"\n",
    "\n",
    "\n",
    "demo = gr.Interface(\n",
    "    fn=wine,\n",
    "    title=\"Wine Quality Predictive Analytics\",\n",
    "    description=\"Experiment with wine characteristics to get the wine quality (low, medium, high)\",\n",
    "    allow_flagging=\"never\",\n",
    "    inputs=[\n",
    "        gr.components.Number(label='fixed acidity'),\n",
    "        gr.components.Number(label='volatile acidity'),\n",
    "        gr.components.Number(label='citric acid'),\n",
    "        gr.components.Number(label='residual sugar'),\n",
    "        gr.components.Number(label='chlorides'),\n",
    "        gr.components.Number(label='free sulfur dioxide'),\n",
    "        gr.components.Number(label='total sulfur dioxide'),\n",
    "        gr.components.Number(label='density'),\n",
    "        gr.components.Number(label='pH'),\n",
    "        gr.components.Number(label='sulphates'),\n",
    "        gr.components.Number(label='alcohol'),\n",
    "        gr.components.Checkbox(label='is white'),\n",
    "    ],\n",
    "    outputs=gr.Text())\n",
    "\n",
    "demo.launch(debug=True)"
   ],
   "metadata": {
    "collapsed": false,
    "ExecuteTime": {
     "end_time": "2023-11-18T15:18:44.209114Z",
     "start_time": "2023-11-18T15:18:43.957333Z"
    }
   },
   "id": "420d41c59f6665be"
  },
  {
   "cell_type": "code",
   "execution_count": null,
   "outputs": [],
   "source": [],
   "metadata": {
    "collapsed": false
   },
   "id": "3c15f903e05ac65b"
  }
 ],
 "metadata": {
  "kernelspec": {
   "display_name": "Python 3",
   "language": "python",
   "name": "python3"
  },
  "language_info": {
   "codemirror_mode": {
    "name": "ipython",
    "version": 2
   },
   "file_extension": ".py",
   "mimetype": "text/x-python",
   "name": "python",
   "nbconvert_exporter": "python",
   "pygments_lexer": "ipython2",
   "version": "2.7.6"
  }
 },
 "nbformat": 4,
 "nbformat_minor": 5
}
